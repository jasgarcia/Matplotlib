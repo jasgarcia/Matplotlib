{
 "cells": [
  {
   "cell_type": "code",
   "execution_count": null,
   "metadata": {},
   "outputs": [],
   "source": [
    "%matplotlib inline\n",
    "# Dependencies and Setup\n",
    "import matplotlib.pyplot as plt\n",
    "import pandas as pd\n",
    "import numpy as np\n",
    "\n",
    "# File to Load (Remember to change these)\n",
    "city_data_to_load = \"data/city_data.csv\"\n",
    "ride_data_to_load = \"data/ride_data.csv\"\n",
    "\n",
    "# Read the City and Ride Data\n",
    "citydata = pd.read_csv(city_data_to_load)\n",
    "ridedata = pd.read_csv(ride_data_to_load)\n",
    "\n",
    "# Combine the data into a single dataset\n",
    "data = pd.merge(ridedata, citydata, how=\"left\", on=[\"city\", \"city\"])\n",
    "\n",
    "# Display the data table for preview\n",
    "data.head()"
   ]
  },
  {
   "cell_type": "markdown",
   "metadata": {},
   "source": [
    "## Bubble Plot of Ride Sharing Data"
   ]
  },
  {
   "cell_type": "code",
   "execution_count": null,
   "metadata": {},
   "outputs": [],
   "source": [
    "# Obtain the x and y coordinates for each of the three city types\n",
    "\n",
    "combine_data = data.groupby([\"type\", \"city\"])\n",
    "\n",
    "# the average fare\n",
    "average_type = combine_data[\"fare\"].mean()\n",
    "\n",
    "#average fare for cities\n",
    "total_type = combine_data[\"city\"].count()\n",
    "\n",
    "#total count for rides\n",
    "total_drivers = combine_data[\"driver_count\"].sum()\n",
    "\n",
    "\n",
    "#total_drivers_city_and_type\n",
    "combined_df = pd.DataFrame({\n",
    "    \"avg_fare\": average_type, \n",
    "    \"total_rides\": total_type, \n",
    "    \"total_drivers\": total_drivers\n",
    "})\n",
    "#combined_df\n",
    "combined_df[\"type\"] = combined_df.index.map(lambda x: x[0])\n",
    "combined_df[\"city\"] = combined_df.index.map(lambda x: x[1])\n",
    "\n",
    "#combined categories\n",
    "rural = combined_df.loc[combined_df[\"type\"] == \"Rural\"]\n",
    "suburban = combined_df.loc[combined_df[\"type\"] == \"Suburban\"]\n",
    "urban = combined_df.loc[combined_df[\"type\"] == \"Urban\"]"
   ]
  },
  {
   "cell_type": "code",
   "execution_count": null,
   "metadata": {},
   "outputs": [],
   "source": [
    "# Build the scatter plots for each city types\n",
    "\n",
    "rural_x = rural[\"total_rides\"]\n",
    "rural_y = rural[\"avg_fare\"]\n",
    "rural_size = rural[\"total_drivers\"] / 5\n",
    "\n",
    "suburban_x = suburban[\"total_rides\"]\n",
    "suburban_y = suburban[\"avg_fare\"]\n",
    "suburban_size = suburban[\"total_drivers\"] / 5\n",
    "\n",
    "urban_x = urban[\"total_rides\"] \n",
    "urban_y = urban[\"avg_fare\"] \n",
    "urban_size = urban[\"total_drivers\"] / 5\n",
    "\n",
    "# Plot 3 separate scatterplots for each city type \n",
    "rural_handle = plt.scatter(rural_x, rural_y, marker=\"o\", facecolors=\"gold\", edgecolors=\"black\", s=rural_size, alpha=0.8, label=\"Rural\")\n",
    "suburban_handle = plt.scatter(suburban_x, suburban_y, marker=\"o\", facecolors=\"purple\", edgecolors=\"black\", s=suburban_size, alpha=0.8, label=\"Suburban\")\n",
    "urban_handle = plt.scatter(urban_x, urban_y, marker=\"o\", facecolors=\"coral\", edgecolors=\"black\", s=urban_size, alpha=0.8, label=\"Urban\")\n",
    "\n",
    "# Create a legend\n",
    "plt.legend(handles=[rural_handle, suburban_handle, urban_handle], loc=\"best\")\n",
    "\n",
    "plt.title(\"Pyber Ride Sharing Data (2016)\")\n",
    "plt.xlabel(\"Total Number of Rides (Per City)\")\n",
    "plt.ylabel(\"Average Fare ($)\")\n",
    "#plt.xlim(0, max(combined_df[\"total_rides\"]) + 5) \n",
    "#plt.ylim(0, max(combined_df[\"avg_fare\"]) + 5)\n",
    "plt.grid()\n",
    "\n",
    "# Save Figure\n",
    "plt.savefig(\"results/Fig1.png\")\n",
    "\n",
    "plt.show()\n"
   ]
  },
  {
   "cell_type": "markdown",
   "metadata": {},
   "source": [
    "## Total Fares by City Type"
   ]
  },
  {
   "cell_type": "code",
   "execution_count": null,
   "metadata": {},
   "outputs": [],
   "source": [
    "# Groupby City\n",
    "group_by_type = data.groupby(\"type\") \n",
    "\n",
    "# Calculate Type Percents \n",
    "total_fares = data[\"fare\"].sum()\n",
    "\n",
    "# Find the total fares by city type, then the percentage \n",
    "total_fares_by_city = group_by_type[\"fare\"].sum()\n",
    "percent_total = total_fares / total_fares * 100\n",
    "\n"
   ]
  },
  {
   "cell_type": "code",
   "execution_count": null,
   "metadata": {},
   "outputs": [],
   "source": [
    "# Build Pie Chart\n",
    "explode = (0, 0, 0.08)\n",
    "colors = [\"gold\", \"lightskyblue\", \"lightcoral\"]\n",
    "\n",
    "percent_total.plot(kind=\"pie\", explode=explode, colors=colors, autopct=\"%1.1f%%\", shadow=True, startangle=140, figsize=(5, 5))\n",
    "\n",
    "plt.title(\"% of Total Fares by City Type\")\n",
    "\n",
    "# Save Figure\n",
    "plt.savefig(\"results/Fig2.png\")\n",
    "\n",
    "# Show Figure\n",
    "plt.show()"
   ]
  },
  {
   "cell_type": "markdown",
   "metadata": {},
   "source": [
    "## Total Rides by City Type"
   ]
  },
  {
   "cell_type": "code",
   "execution_count": null,
   "metadata": {},
   "outputs": [],
   "source": [
    "# Calculate Ride Percents\n",
    "total_rides = len(data)\n",
    "\n",
    "# Find the count for total rides by city type, then percentage \n",
    "total_rides_per_city = group_by_type[\"city\"].count()\n",
    "total_rides = total_rides_per_city / total_rides * 100\n"
   ]
  },
  {
   "cell_type": "code",
   "execution_count": null,
   "metadata": {},
   "outputs": [],
   "source": [
    "# Build Pie Chart\n",
    "explode = (0, 0, 0.08)\n",
    "colors = [\"gold\", \"lightskyblue\", \"lightcoral\"]\n",
    "\n",
    "total_rides_per_city.plot(kind=\"pie\", explode=explode, colors=colors, autopct=\"%1.1f%%\", shadow=True, startangle=140, figsize=(5, 5))\n",
    "\n",
    "plt.title(\"% of Total Rides by City Type\")\n",
    "plt.show()\n",
    "\n",
    "# Save Figure\n",
    "plt.savefig(\"results/Fig3.png\")\n",
    "\n",
    "# Show Figure\n",
    "plt.show()"
   ]
  },
  {
   "cell_type": "markdown",
   "metadata": {},
   "source": [
    "## Total Drivers by City Type"
   ]
  },
  {
   "cell_type": "code",
   "execution_count": null,
   "metadata": {},
   "outputs": [],
   "source": [
    "# Calculate Driver Percents\n",
    "\n",
    "total_drivers = data[\"driver_count\"].sum()\n",
    "\n",
    "# Find the total drivers by city type, then the percentage \n",
    "total_drivers_byCity = group_by_type[\"driver_count\"].sum()\n",
    "total_percent = total_drivers_byCity/ total_drivers * 100\n",
    "\n"
   ]
  },
  {
   "cell_type": "code",
   "execution_count": null,
   "metadata": {
    "scrolled": true
   },
   "outputs": [],
   "source": [
    "# Build Pie Charts\n",
    "explode = (0, 0, 0.14)\n",
    "colors = [\"gold\", \"lightskyblue\", \"lightcoral\"]\n",
    "\n",
    "total_percent.plot(kind=\"pie\", explode=explode, colors=colors, autopct=\"%1.1f%%\", shadow=True, startangle=140, figsize=(5, 5))\n",
    "\n",
    "plt.title(\"% of Total Drivers by City Type\")\n",
    "plt.show()\n",
    "\n",
    "# Save Figure\n",
    "plt.savefig(\"results/Fig4.png\")\n",
    "\n",
    "# Show Figure\n",
    "plt.show()"
   ]
  },
  {
   "cell_type": "code",
   "execution_count": null,
   "metadata": {},
   "outputs": [],
   "source": []
  },
  {
   "cell_type": "code",
   "execution_count": null,
   "metadata": {},
   "outputs": [],
   "source": []
  }
 ],
 "metadata": {
  "anaconda-cloud": {},
  "kernelspec": {
   "display_name": "Python [conda env:PythonData] *",
   "language": "python",
   "name": "conda-env-PythonData-py"
  },
  "language_info": {
   "codemirror_mode": {
    "name": "ipython",
    "version": 3
   },
   "file_extension": ".py",
   "mimetype": "text/x-python",
   "name": "python",
   "nbconvert_exporter": "python",
   "pygments_lexer": "ipython3",
   "version": "3.6.9"
  }
 },
 "nbformat": 4,
 "nbformat_minor": 2
}
